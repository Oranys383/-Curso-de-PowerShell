{
  "cells": [
    {
      "cell_type": "markdown",
      "metadata": {
        "id": "C6gBzgzXnWdf"
      },
      "source": [
        "# Ejercicios Laboratorio 02"
      ]
    },
    {
      "cell_type": "markdown",
      "metadata": {
        "id": "VCgW0RiLnWdg"
      },
      "source": [
        "1 - Realice el proceso de integración de datos para los siguientes conjuntos de datos:\n",
        "* [heart-disease.cleveland.csv](https://github.com/aavazquezs/curso_aprendizaje_automatico_UCI_2023/blob/master/datasets/heart-disease.cleveland.csv)\n",
        "* [heart-disease.hungarian.csv](https://github.com/aavazquezs/curso_aprendizaje_automatico_UCI_2023/blob/master/datasets/heart-disease.hungarian.csv)\n",
        "* [heart-disease.switzerland.csv](https://github.com/aavazquezs/curso_aprendizaje_automatico_UCI_2023/blob/master/datasets/heart-disease.switzerland.csv)"
      ]
    },
    {
      "cell_type": "code",
      "execution_count": 36,
      "metadata": {
        "id": "NbWjiYnAnWdg",
        "outputId": "0821a8c8-6ffa-4018-c408-23fea25f7bb5",
        "colab": {
          "base_uri": "https://localhost:8080/"
        }
      },
      "outputs": [
        {
          "output_type": "stream",
          "name": "stdout",
          "text": [
            "<class 'pandas.core.frame.DataFrame'>\n",
            "RangeIndex: 720 entries, 0 to 719\n",
            "Data columns (total 14 columns):\n",
            " #   Column    Non-Null Count  Dtype  \n",
            "---  ------    --------------  -----  \n",
            " 0   age       720 non-null    float64\n",
            " 1   sex       720 non-null    float64\n",
            " 2   cp        720 non-null    float64\n",
            " 3   trestbps  720 non-null    object \n",
            " 4   chol      720 non-null    object \n",
            " 5   fbs       720 non-null    object \n",
            " 6   restecg   720 non-null    object \n",
            " 7   thalach   720 non-null    object \n",
            " 8   exang     720 non-null    object \n",
            " 9   oldpeak   720 non-null    object \n",
            " 10  slope     720 non-null    object \n",
            " 11  ca        720 non-null    object \n",
            " 12  thal      720 non-null    object \n",
            " 13  num       720 non-null    int64  \n",
            "dtypes: float64(3), int64(1), object(10)\n",
            "memory usage: 78.9+ KB\n",
            "None\n",
            "    age  sex   cp trestbps   chol  fbs restecg thalach exang oldpeak slope  \\\n",
            "0  63.0  1.0  1.0    145.0  233.0  1.0     2.0   150.0   0.0     2.3   3.0   \n",
            "1  67.0  1.0  4.0    160.0  286.0  0.0     2.0   108.0   1.0     1.5   2.0   \n",
            "2  67.0  1.0  4.0    120.0  229.0  0.0     2.0   129.0   1.0     2.6   2.0   \n",
            "3  37.0  1.0  3.0    130.0  250.0  0.0     0.0   187.0   0.0     3.5   3.0   \n",
            "4  41.0  0.0  2.0    130.0  204.0  0.0     2.0   172.0   0.0     1.4   1.0   \n",
            "\n",
            "    ca thal  num  \n",
            "0  0.0  6.0    0  \n",
            "1  3.0  3.0    2  \n",
            "2  2.0  7.0    1  \n",
            "3  0.0  3.0    0  \n",
            "4  0.0  3.0    0  \n"
          ]
        }
      ],
      "source": [
        "import pandas as pd\n",
        "\n",
        "# Cargar datasets con la ruta correcta\n",
        "df_cleveland = pd.read_csv(\"laboratorio_2/heart-disease.cleveland.csv\")\n",
        "df_hungarian = pd.read_csv(\"laboratorio_2/heart-disease.hungarian.csv\")\n",
        "df_switzerland = pd.read_csv(\"laboratorio_2/heart-disease.switzerland.csv\")\n",
        "\n",
        "# Fusionar los datasets\n",
        "df_combined = pd.concat([df_cleveland, df_hungarian, df_switzerland], ignore_index=True)\n",
        "\n",
        "# Ver estructura de datos\n",
        "print(df_combined.info())\n",
        "print(df_combined.head())\n"
      ]
    },
    {
      "cell_type": "markdown",
      "metadata": {
        "id": "n-aMFlXinWdg"
      },
      "source": [
        "2 - Realice el proceso de preparación de datos aplicando las técnicas que crea necesarias al conjunto de datos _*boston*_. Para cargar ese dataset puede ejecutar el código siguiente:"
      ]
    },
    {
      "cell_type": "code",
      "execution_count": 25,
      "metadata": {
        "id": "OwAOZ9SGnWdg",
        "outputId": "007a86ce-31b5-46a9-b4da-2246539f1704",
        "colab": {
          "base_uri": "https://localhost:8080/"
        }
      },
      "outputs": [
        {
          "output_type": "stream",
          "name": "stdout",
          "text": [
            "       CRIM        ZN     INDUS      CHAS       NOX        RM       AGE  \\\n",
            "0 -0.419782  0.284830 -1.287909 -0.272599 -0.144217  0.413672 -0.120013   \n",
            "1 -0.417339 -0.487722 -0.593381 -0.272599 -0.740262  0.194274  0.367166   \n",
            "2 -0.417342 -0.487722 -0.593381 -0.272599 -0.740262  1.282714 -0.265812   \n",
            "3 -0.416750 -0.487722 -1.306878 -0.272599 -0.835284  1.016303 -0.809889   \n",
            "4 -0.412482 -0.487722 -1.306878 -0.272599 -0.835284  1.228577 -0.511180   \n",
            "\n",
            "        DIS       RAD       TAX   PTRATIO         B     LSTAT    target  \n",
            "0  0.140214 -0.982843 -0.666608 -1.459000  0.441052 -1.075562  0.159686  \n",
            "1  0.557160 -0.867883 -0.987329 -0.303094  0.441052 -0.492439 -0.101524  \n",
            "2  0.557160 -0.867883 -0.987329 -0.303094  0.396427 -1.208727  1.324247  \n",
            "3  1.077737 -0.752922 -1.106115  0.113032  0.416163 -1.361517  1.182758  \n",
            "4  1.077737 -0.752922 -1.106115  0.113032  0.441052 -1.026501  1.487503  \n"
          ]
        }
      ],
      "source": [
        "import pandas as pd\n",
        "from sklearn.datasets import fetch_openml\n",
        "\n",
        "# Cargar el dataset de Boston\n",
        "boston = fetch_openml(name='boston', version=1, as_frame=True)\n",
        "df_boston = boston.data\n",
        "df_boston['target'] = boston.target\n",
        "\n",
        "# Aplicar técnicas de preparación (normalización, eliminación de valores nulos, etc.)\n",
        "df_boston = df_boston.dropna()  # Eliminar posibles valores nulos\n",
        "\n",
        "# Normalización de los datos\n",
        "from sklearn.preprocessing import StandardScaler\n",
        "scaler = StandardScaler()\n",
        "df_boston[df_boston.columns] = scaler.fit_transform(df_boston[df_boston.columns])\n",
        "\n",
        "print(df_boston.head())\n"
      ]
    },
    {
      "cell_type": "markdown",
      "metadata": {
        "id": "o0UVRPk0nWdg"
      },
      "source": [
        "\n",
        "3 - Evalúe los modelos [houseprices_reg.pkl](https://github.com/aavazquezs/curso_aprendizaje_automatico_UCI_2023/blob/master/saved_models/housesprices_reg.pkl) y [student_performance_reg.pkl](https://github.com/aavazquezs/curso_aprendizaje_automatico_UCI_2023/blob/master/saved_models/student_performance_reg.pkl) tomando en cuenta que los conjuntos de datos usados para entrenarlos son los siguientes [houseprices_regression.csv](https://github.com/aavazquezs/curso_aprendizaje_automatico_UCI_2023/blob/master/datasets/houseprices_regression.csv) y [students_performance_evaluation.csv](https://github.com/aavazquezs/curso_aprendizaje_automatico_UCI_2023/blob/master/datasets/students_performance_evaluation.csv) respectivamente."
      ]
    },
    {
      "cell_type": "code",
      "execution_count": null,
      "metadata": {
        "id": "6SlOmtbPnWdg",
        "outputId": "247e890e-cef6-4b2a-fa5b-a269005b83a3",
        "colab": {
          "base_uri": "https://localhost:8080/",
          "height": 38
        }
      },
      "outputs": [
        {
          "output_type": "display_data",
          "data": {
            "text/plain": [
              "<IPython.core.display.HTML object>"
            ],
            "text/html": [
              "\n",
              "     <input type=\"file\" id=\"files-2ce0151a-dcd3-42cd-9c88-25c91ff27a44\" name=\"files[]\" multiple disabled\n",
              "        style=\"border:none\" />\n",
              "     <output id=\"result-2ce0151a-dcd3-42cd-9c88-25c91ff27a44\">\n",
              "      Upload widget is only available when the cell has been executed in the\n",
              "      current browser session. Please rerun this cell to enable.\n",
              "      </output>\n",
              "      <script>// Copyright 2017 Google LLC\n",
              "//\n",
              "// Licensed under the Apache License, Version 2.0 (the \"License\");\n",
              "// you may not use this file except in compliance with the License.\n",
              "// You may obtain a copy of the License at\n",
              "//\n",
              "//      http://www.apache.org/licenses/LICENSE-2.0\n",
              "//\n",
              "// Unless required by applicable law or agreed to in writing, software\n",
              "// distributed under the License is distributed on an \"AS IS\" BASIS,\n",
              "// WITHOUT WARRANTIES OR CONDITIONS OF ANY KIND, either express or implied.\n",
              "// See the License for the specific language governing permissions and\n",
              "// limitations under the License.\n",
              "\n",
              "/**\n",
              " * @fileoverview Helpers for google.colab Python module.\n",
              " */\n",
              "(function(scope) {\n",
              "function span(text, styleAttributes = {}) {\n",
              "  const element = document.createElement('span');\n",
              "  element.textContent = text;\n",
              "  for (const key of Object.keys(styleAttributes)) {\n",
              "    element.style[key] = styleAttributes[key];\n",
              "  }\n",
              "  return element;\n",
              "}\n",
              "\n",
              "// Max number of bytes which will be uploaded at a time.\n",
              "const MAX_PAYLOAD_SIZE = 100 * 1024;\n",
              "\n",
              "function _uploadFiles(inputId, outputId) {\n",
              "  const steps = uploadFilesStep(inputId, outputId);\n",
              "  const outputElement = document.getElementById(outputId);\n",
              "  // Cache steps on the outputElement to make it available for the next call\n",
              "  // to uploadFilesContinue from Python.\n",
              "  outputElement.steps = steps;\n",
              "\n",
              "  return _uploadFilesContinue(outputId);\n",
              "}\n",
              "\n",
              "// This is roughly an async generator (not supported in the browser yet),\n",
              "// where there are multiple asynchronous steps and the Python side is going\n",
              "// to poll for completion of each step.\n",
              "// This uses a Promise to block the python side on completion of each step,\n",
              "// then passes the result of the previous step as the input to the next step.\n",
              "function _uploadFilesContinue(outputId) {\n",
              "  const outputElement = document.getElementById(outputId);\n",
              "  const steps = outputElement.steps;\n",
              "\n",
              "  const next = steps.next(outputElement.lastPromiseValue);\n",
              "  return Promise.resolve(next.value.promise).then((value) => {\n",
              "    // Cache the last promise value to make it available to the next\n",
              "    // step of the generator.\n",
              "    outputElement.lastPromiseValue = value;\n",
              "    return next.value.response;\n",
              "  });\n",
              "}\n",
              "\n",
              "/**\n",
              " * Generator function which is called between each async step of the upload\n",
              " * process.\n",
              " * @param {string} inputId Element ID of the input file picker element.\n",
              " * @param {string} outputId Element ID of the output display.\n",
              " * @return {!Iterable<!Object>} Iterable of next steps.\n",
              " */\n",
              "function* uploadFilesStep(inputId, outputId) {\n",
              "  const inputElement = document.getElementById(inputId);\n",
              "  inputElement.disabled = false;\n",
              "\n",
              "  const outputElement = document.getElementById(outputId);\n",
              "  outputElement.innerHTML = '';\n",
              "\n",
              "  const pickedPromise = new Promise((resolve) => {\n",
              "    inputElement.addEventListener('change', (e) => {\n",
              "      resolve(e.target.files);\n",
              "    });\n",
              "  });\n",
              "\n",
              "  const cancel = document.createElement('button');\n",
              "  inputElement.parentElement.appendChild(cancel);\n",
              "  cancel.textContent = 'Cancel upload';\n",
              "  const cancelPromise = new Promise((resolve) => {\n",
              "    cancel.onclick = () => {\n",
              "      resolve(null);\n",
              "    };\n",
              "  });\n",
              "\n",
              "  // Wait for the user to pick the files.\n",
              "  const files = yield {\n",
              "    promise: Promise.race([pickedPromise, cancelPromise]),\n",
              "    response: {\n",
              "      action: 'starting',\n",
              "    }\n",
              "  };\n",
              "\n",
              "  cancel.remove();\n",
              "\n",
              "  // Disable the input element since further picks are not allowed.\n",
              "  inputElement.disabled = true;\n",
              "\n",
              "  if (!files) {\n",
              "    return {\n",
              "      response: {\n",
              "        action: 'complete',\n",
              "      }\n",
              "    };\n",
              "  }\n",
              "\n",
              "  for (const file of files) {\n",
              "    const li = document.createElement('li');\n",
              "    li.append(span(file.name, {fontWeight: 'bold'}));\n",
              "    li.append(span(\n",
              "        `(${file.type || 'n/a'}) - ${file.size} bytes, ` +\n",
              "        `last modified: ${\n",
              "            file.lastModifiedDate ? file.lastModifiedDate.toLocaleDateString() :\n",
              "                                    'n/a'} - `));\n",
              "    const percent = span('0% done');\n",
              "    li.appendChild(percent);\n",
              "\n",
              "    outputElement.appendChild(li);\n",
              "\n",
              "    const fileDataPromise = new Promise((resolve) => {\n",
              "      const reader = new FileReader();\n",
              "      reader.onload = (e) => {\n",
              "        resolve(e.target.result);\n",
              "      };\n",
              "      reader.readAsArrayBuffer(file);\n",
              "    });\n",
              "    // Wait for the data to be ready.\n",
              "    let fileData = yield {\n",
              "      promise: fileDataPromise,\n",
              "      response: {\n",
              "        action: 'continue',\n",
              "      }\n",
              "    };\n",
              "\n",
              "    // Use a chunked sending to avoid message size limits. See b/62115660.\n",
              "    let position = 0;\n",
              "    do {\n",
              "      const length = Math.min(fileData.byteLength - position, MAX_PAYLOAD_SIZE);\n",
              "      const chunk = new Uint8Array(fileData, position, length);\n",
              "      position += length;\n",
              "\n",
              "      const base64 = btoa(String.fromCharCode.apply(null, chunk));\n",
              "      yield {\n",
              "        response: {\n",
              "          action: 'append',\n",
              "          file: file.name,\n",
              "          data: base64,\n",
              "        },\n",
              "      };\n",
              "\n",
              "      let percentDone = fileData.byteLength === 0 ?\n",
              "          100 :\n",
              "          Math.round((position / fileData.byteLength) * 100);\n",
              "      percent.textContent = `${percentDone}% done`;\n",
              "\n",
              "    } while (position < fileData.byteLength);\n",
              "  }\n",
              "\n",
              "  // All done.\n",
              "  yield {\n",
              "    response: {\n",
              "      action: 'complete',\n",
              "    }\n",
              "  };\n",
              "}\n",
              "\n",
              "scope.google = scope.google || {};\n",
              "scope.google.colab = scope.google.colab || {};\n",
              "scope.google.colab._files = {\n",
              "  _uploadFiles,\n",
              "  _uploadFilesContinue,\n",
              "};\n",
              "})(self);\n",
              "</script> "
            ]
          },
          "metadata": {}
        }
      ],
      "source": [
        "from google.colab import files\n",
        "uploaded = files.upload()\n",
        "\n"
      ]
    },
    {
      "cell_type": "markdown",
      "metadata": {
        "id": "7dZMuWULnWdg"
      },
      "source": [
        "4 - Evalúa el rendimiento del modelo de árboles de decisión [decision_tree_clf.pkl](https://github.com/aavazquezs/curso_aprendizaje_automatico_UCI_2023/blob/master/saved_models/decision_tree_clf.pkl) que fue entrenado usando el conjunto de datos [breast_cancer.csv](https://github.com/aavazquezs/curso_aprendizaje_automatico_UCI_2023/blob/master/datasets/breast_cancer.csv). Para ello utilice métricas de tipo numéricas y gráficos para saber si ese modelo brinda buenos resultados en la clasificación."
      ]
    },
    {
      "cell_type": "code",
      "execution_count": 25,
      "metadata": {
        "id": "gX4rEoUpnWdh"
      },
      "outputs": [],
      "source": []
    }
  ],
  "metadata": {
    "language_info": {
      "name": "python"
    },
    "orig_nbformat": 4,
    "colab": {
      "provenance": []
    },
    "kernelspec": {
      "name": "python3",
      "display_name": "Python 3"
    }
  },
  "nbformat": 4,
  "nbformat_minor": 0
}